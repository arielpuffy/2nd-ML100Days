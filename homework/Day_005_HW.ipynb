{
 "cells": [
  {
   "cell_type": "code",
   "execution_count": 1,
   "metadata": {},
   "outputs": [],
   "source": [
    "# Import 需要的套件\n",
    "import os\n",
    "import numpy as np\n",
    "import pandas as pd\n",
    "\n",
    "# 設定 data_path\n",
    "dir_data = './data/'"
   ]
  },
  {
   "cell_type": "code",
   "execution_count": 2,
   "metadata": {},
   "outputs": [],
   "source": [
    "f_app_train = os.path.join(dir_data, 'application_train.csv')\n",
    "app_train = pd.read_csv(f_app_train)"
   ]
  },
  {
   "cell_type": "code",
   "execution_count": 3,
   "metadata": {},
   "outputs": [],
   "source": [
    "import matplotlib.pyplot as plt\n",
    "%matplotlib inline"
   ]
  },
  {
   "cell_type": "markdown",
   "metadata": {},
   "source": [
    "## 練習時間"
   ]
  },
  {
   "cell_type": "markdown",
   "metadata": {},
   "source": [
    "觀察有興趣的欄位的資料分佈，並嘗試找出有趣的訊息\n",
    "#### Eg\n",
    "- 計算任意欄位的平均數及標準差\n",
    "- 畫出任意欄位的[直方圖](https://zh.wikipedia.org/zh-tw/%E7%9B%B4%E6%96%B9%E5%9B%BE)\n",
    "\n",
    "### Hints:\n",
    "- [Descriptive Statistics For pandas Dataframe](https://chrisalbon.com/python/data_wrangling/pandas_dataframe_descriptive_stats/)\n",
    "- [pandas 中的繪圖函數](https://amaozhao.gitbooks.io/pandas-notebook/content/pandas%E4%B8%AD%E7%9A%84%E7%BB%98%E5%9B%BE%E5%87%BD%E6%95%B0.html)\n"
   ]
  },
  {
   "cell_type": "code",
   "execution_count": 10,
   "metadata": {},
   "outputs": [
    {
     "name": "stdout",
     "output_type": "stream",
     "text": [
      "AMT_INCOME_TOTAL平均數: 168797.9192969845\n",
      "AMT_CREDIT標準差: 402490.776995946\n"
     ]
    }
   ],
   "source": [
    "df = pd.DataFrame(app_train, columns = ['SK_ID_CURR', 'CODE_GENDER', 'AMT_INCOME_TOTAL', 'AMT_CREDIT'])\n",
    "print('AMT_INCOME_TOTAL平均數:', df['AMT_INCOME_TOTAL'].mean())\n",
    "print('AMT_CREDIT標準差:', df['AMT_CREDIT'].std())"
   ]
  },
  {
   "cell_type": "code",
   "execution_count": 12,
   "metadata": {},
   "outputs": [
    {
     "name": "stdout",
     "output_type": "stream",
     "text": [
      "        SK_ID_CURR CODE_GENDER  AMT_INCOME_TOTAL  AMT_CREDIT    tip_pct\n",
      "0           100002           M        202500.000    406597.5   2.007889\n",
      "1           100003           F        270000.000   1293502.5   4.790750\n",
      "2           100004           M         67500.000    135000.0   2.000000\n",
      "3           100006           F        135000.000    312682.5   2.316167\n",
      "4           100007           M        121500.000    513000.0   4.222222\n",
      "5           100008           M         99000.000    490495.5   4.954500\n",
      "6           100009           F        171000.000   1560726.0   9.127053\n",
      "7           100010           M        360000.000   1530000.0   4.250000\n",
      "8           100011           F        112500.000   1019610.0   9.063200\n",
      "9           100012           M        135000.000    405000.0   3.000000\n",
      "10          100014           F        112500.000    652500.0   5.800000\n",
      "11          100015           F         38419.155    148365.0   3.861746\n",
      "12          100016           F         67500.000     80865.0   1.198000\n",
      "13          100017           M        225000.000    918468.0   4.082080\n",
      "14          100018           F        189000.000    773680.5   4.093548\n",
      "15          100019           M        157500.000    299772.0   1.903314\n",
      "16          100020           M        108000.000    509602.5   4.718542\n",
      "17          100021           F         81000.000    270000.0   3.333333\n",
      "18          100022           F        112500.000    157500.0   1.400000\n",
      "19          100023           F         90000.000    544491.0   6.049900\n",
      "20          100024           M        135000.000    427500.0   3.166667\n",
      "21          100025           F        202500.000   1132573.5   5.592956\n",
      "22          100026           F        450000.000    497520.0   1.105600\n",
      "23          100027           F         83250.000    239850.0   2.881081\n",
      "24          100029           M        135000.000    247500.0   1.833333\n",
      "25          100030           F         90000.000    225000.0   2.500000\n",
      "26          100031           F        112500.000    979992.0   8.711040\n",
      "27          100032           M        112500.000    327024.0   2.906880\n",
      "28          100033           M        270000.000    790830.0   2.929000\n",
      "29          100034           M         90000.000    180000.0   2.000000\n",
      "...            ...         ...               ...         ...        ...\n",
      "307481      456225           M        225000.000    297000.0   1.320000\n",
      "307482      456226           F        225000.000    500566.5   2.224740\n",
      "307483      456227           F         99000.000    247275.0   2.497727\n",
      "307484      456228           F        540000.000    545040.0   1.009333\n",
      "307485      456229           F        270000.000    180000.0   0.666667\n",
      "307486      456230           F        292500.000    355536.0   1.215508\n",
      "307487      456231           M        117000.000   1071909.0   9.161615\n",
      "307488      456232           F        157500.000    135000.0   0.857143\n",
      "307489      456233           F        225000.000    521280.0   2.316800\n",
      "307490      456234           M         81000.000    135000.0   1.666667\n",
      "307491      456235           M         90000.000   1078200.0  11.980000\n",
      "307492      456236           M        585000.000   1575000.0   2.692308\n",
      "307493      456237           F        135000.000    946764.0   7.013067\n",
      "307494      456238           M        270000.000    479700.0   1.776667\n",
      "307495      456239           M        180000.000    808650.0   4.492500\n",
      "307496      456240           F        360000.000    337500.0   0.937500\n",
      "307497      456241           F        180000.000    270126.0   1.500700\n",
      "307498      456242           M        198000.000   1312110.0   6.626818\n",
      "307499      456243           F         81000.000    225000.0   2.777778\n",
      "307500      456244           F        261000.000   1303812.0   4.995448\n",
      "307501      456245           F         81000.000    269550.0   3.327778\n",
      "307502      456246           F         94500.000    225000.0   2.380952\n",
      "307503      456247           F        112500.000    345510.0   3.071200\n",
      "307504      456248           F        153000.000    331920.0   2.169412\n",
      "307505      456249           F        112500.000    225000.0   2.000000\n",
      "307506      456251           M        157500.000    254700.0   1.617143\n",
      "307507      456252           F         72000.000    269550.0   3.743750\n",
      "307508      456253           F        153000.000    677664.0   4.429176\n",
      "307509      456254           F        171000.000    370107.0   2.164368\n",
      "307510      456255           F        157500.000    675000.0   4.285714\n",
      "\n",
      "[307511 rows x 5 columns]\n"
     ]
    },
    {
     "data": {
      "text/plain": [
       "<matplotlib.axes._subplots.AxesSubplot at 0x118b996d8>"
      ]
     },
     "execution_count": 12,
     "metadata": {},
     "output_type": "execute_result"
    },
    {
     "data": {
      "image/png": "[encoded data removed]",
      "text/plain": [
       "<Figure size 432x288 with 1 Axes>"
      ]
     },
     "metadata": {},
     "output_type": "display_data"
    }
   ],
   "source": [
    "print(df)\n",
    "df['tip_pct'] = df['AMT_CREDIT'] / df['AMT_INCOME_TOTAL']\n",
    "df['tip_pct'].hist(bins=50)"
   ]
  },
  {
   "cell_type": "code",
   "execution_count": null,
   "metadata": {},
   "outputs": [],
   "source": []
  }
 ],
 "metadata": {
  "kernelspec": {
   "display_name": "Python 3",
   "language": "python",
   "name": "python3"
  },
  "language_info": {
   "codemirror_mode": {
    "name": "ipython",
    "version": 3
   },
   "file_extension": ".py",
   "mimetype": "text/x-python",
   "name": "python",
   "nbconvert_exporter": "python",
   "pygments_lexer": "ipython3",
   "version": "3.6.6"
  }
 },
 "nbformat": 4,
 "nbformat_minor": 2
}
